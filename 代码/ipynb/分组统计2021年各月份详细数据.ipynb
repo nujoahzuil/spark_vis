{
 "cells": [
  {
   "cell_type": "markdown",
   "metadata": {
    "id": "829B78D3973243378F8E186C681AADC6",
    "jupyter": {},
    "mdEditEnable": false,
    "slideshow": {
     "slide_type": "slide"
    },
    "tags": []
   },
   "source": [
    "### 初始化(导入Spark)"
   ]
  },
  {
   "cell_type": "code",
   "execution_count": 1,
   "metadata": {
    "id": "81902C80D0414F4EB6D275AD56166754",
    "jupyter": {},
    "notebookId": "60a8b374e9d963001709ebd0",
    "scrolled": false,
    "slideshow": {
     "slide_type": "slide"
    },
    "tags": []
   },
   "outputs": [],
   "source": [
    "# 显示cell运行时长\n",
    "%load_ext klab-autotime"
   ]
  },
  {
   "cell_type": "code",
   "execution_count": 2,
   "metadata": {
    "id": "B535CD6FE7924C6797409D2F2DA6E10E",
    "jupyter": {},
    "scrolled": false,
    "slideshow": {
     "slide_type": "slide"
    },
    "tags": []
   },
   "outputs": [
    {
     "name": "stdout",
     "output_type": "stream",
     "text": [
      "time: 3.69 s\n"
     ]
    }
   ],
   "source": [
    "import findspark\n",
    "findspark.init() #找到并激活Spark\n",
    "\n",
    "import pyspark\n",
    "from pyspark.sql import SparkSession #SparkSession\n",
    "\n",
    "from pyspark import SparkContext #SparkContext(类)\n",
    "#sc = SparkContext(\"local\", \"First App\") #生成sc实例，和pyspark shell的内置sc一样都是local\n",
    "sc = SparkContext()\n",
    "spark = SparkSession(sc)\n",
    "\n",
    "from pyspark.sql.functions import when,udf\n",
    "from pyspark.sql.types import StringType, DateType, IntegerType\n",
    "\n",
    "import numpy as np\n",
    "import pandas as pd\n",
    "import os,psutil \n",
    "from pyspark.sql.functions import *"
   ]
  },
  {
   "cell_type": "code",
   "execution_count": 3,
   "metadata": {
    "id": "773A73F64F7749FF80CDD3D12680A9E2",
    "jupyter": {},
    "scrolled": false,
    "slideshow": {
     "slide_type": "slide"
    },
    "tags": []
   },
   "outputs": [
    {
     "name": "stdout",
     "output_type": "stream",
     "text": [
      "Spark版本: 2.4.2 \n",
      "Python版本: 3.6 \n",
      "master local[*]\n",
      "time: 4.29 ms\n"
     ]
    }
   ],
   "source": [
    "print(\"Spark版本:\", sc.version, \"\\nPython版本:\", sc.pythonVer, \"\\nmaster\", sc.master)"
   ]
  },
  {
   "cell_type": "markdown",
   "metadata": {
    "id": "41F3146F7DF243028D439C12AE53AAF6",
    "jupyter": {},
    "mdEditEnable": false,
    "notebookId": "60a3f073e9d96300170942e3",
    "slideshow": {
     "slide_type": "slide"
    },
    "tags": []
   },
   "source": [
    "### 读取数据集"
   ]
  },
  {
   "cell_type": "code",
   "execution_count": 4,
   "metadata": {
    "id": "0AEF8C4DCCD34FA98A4E7BBC999643C7",
    "jupyter": {},
    "scrolled": false,
    "slideshow": {
     "slide_type": "slide"
    },
    "tags": []
   },
   "outputs": [
    {
     "name": "stdout",
     "output_type": "stream",
     "text": [
      "time: 1min 12s\n"
     ]
    }
   ],
   "source": [
    "#spark = SparkSession(sc)\n",
    "df = spark.read.csv(\"/home/kesci/input/parallel_zwl015100/ticket.csv\", header = True, inferSchema = True)\n",
    "#df = spark.read.csv(\"/home/kesci/input/parallel_zwl015100/ticket.csv\")"
   ]
  },
  {
   "cell_type": "code",
   "execution_count": 5,
   "metadata": {
    "id": "487C7C0C7D714792B90467501FA43443",
    "jupyter": {},
    "notebookId": "60a3f073e9d96300170942e3",
    "scrolled": false,
    "slideshow": {
     "slide_type": "slide"
    },
    "tags": []
   },
   "outputs": [
    {
     "name": "stdout",
     "output_type": "stream",
     "text": [
      "+----+--------+------+---+------------------+----------+----+---+\n",
      "| _c0|     _c1|   _c2|_c3|               _c4|       _c5| _c6|_c7|\n",
      "+----+--------+------+---+------------------+----------+----+---+\n",
      "|null|    null|  null|  9|              null|      null|null|  9|\n",
      "|null|    null|  null|  9|              null|      null|null|  9|\n",
      "|8009|20200222|110000|  1|140225199002140040|大同汽车站|浑源|  1|\n",
      "|8009|20200222|110000|  1|140225199002140040|大同汽车站|浑源|  1|\n",
      "|8006|20200224| 92000|  1|140225198309220016|大同汽车站|浑源|  1|\n",
      "|8006|20200224| 92000|  1|140225198309220016|大同汽车站|浑源|  1|\n",
      "|8010|20200225|104000|  1|140225199206064318|大同汽车站|浑源|  1|\n",
      "|8010|20200225|104000|  1|140225199306034319|大同汽车站|浑源|  1|\n",
      "|8010|20200225|104000|  1|140225199206064318|大同汽车站|浑源|  1|\n",
      "|8010|20200225|104000|  1|140225199306034319|大同汽车站|浑源|  1|\n",
      "+----+--------+------+---+------------------+----------+----+---+\n",
      "only showing top 10 rows\n",
      "\n",
      "time: 253 ms\n"
     ]
    }
   ],
   "source": [
    "df.show(10)"
   ]
  },
  {
   "cell_type": "code",
   "execution_count": 6,
   "metadata": {
    "id": "73E4C4F42D774F4C8A0191BADD174C1F",
    "jupyter": {},
    "notebookId": "60abaaabe9d96300170a55cb",
    "scrolled": false,
    "slideshow": {
     "slide_type": "slide"
    },
    "tags": []
   },
   "outputs": [],
   "source": [
    "############暂时不跑##############\n",
    "SSN = df.select('_c5') #选择出发车站所对应的列\n",
    "group = SSN.groupby('_c5').count() #将不同车站分组统计\n",
    "group.show(10) #查看前10个车站及频次\n",
    "group.count() #一共有4797个出发车站"
   ]
  },
  {
   "cell_type": "markdown",
   "metadata": {
    "id": "EB679818D90044849B65214EE426CF36",
    "jupyter": {},
    "mdEditEnable": false,
    "slideshow": {
     "slide_type": "slide"
    },
    "tags": []
   },
   "source": [
    "### 数据整体预处理"
   ]
  },
  {
   "cell_type": "code",
   "execution_count": 6,
   "metadata": {
    "id": "B29CF29645F54DE798BC96A9B000FDB7",
    "jupyter": {},
    "scrolled": false,
    "slideshow": {
     "slide_type": "slide"
    },
    "tags": []
   },
   "outputs": [
    {
     "name": "stdout",
     "output_type": "stream",
     "text": [
      "+----------+\n",
      "|departdate|\n",
      "+----------+\n",
      "|  20200222|\n",
      "|  20200222|\n",
      "|  20200224|\n",
      "|  20200224|\n",
      "|  20200225|\n",
      "|  20200225|\n",
      "|  20200225|\n",
      "|  20200225|\n",
      "|  20200226|\n",
      "|  20200226|\n",
      "+----------+\n",
      "only showing top 10 rows\n",
      "\n",
      "time: 274 ms\n"
     ]
    }
   ],
   "source": [
    "#去除完全重复的数据\n",
    "#df = df.drop_duplicates() \n",
    "#筛选列\n",
    "#df = df.drop('_c3').drop('_c4')\n",
    "df1 = df.select('_c1')\n",
    "#对列重命名\n",
    "df1 = df1.withColumnRenamed(\"_c1\", \"departdate\")\n",
    "#new_names = ['schedulecode','departdate','Departtime','startstationname','Reachstationname','seattype']\n",
    "#df = df.toDF(*new_names)\n",
    "#删除缺失值\n",
    "df1 = df1.filter(df1.departdate != 'N')\n",
    "#展示前十行数据\n",
    "df1.show(10) "
   ]
  },
  {
   "cell_type": "code",
   "execution_count": 7,
   "metadata": {
    "id": "57CD9B55D07043A1805F21CE321BB083",
    "jupyter": {},
    "notebookId": "60abaaabe9d96300170a55cb",
    "scrolled": false,
    "slideshow": {
     "slide_type": "slide"
    },
    "tags": []
   },
   "outputs": [],
   "source": [
    "############暂时不跑##############\n",
    "GRD = df1 #选择离站日期所对应的列\n",
    "group2 = GRD.groupby('departdate').count() #将不同日期分组统计\n",
    "group2.show(10) #查看前10个日期及频次\n",
    "group2.count() #一共有xx个日期"
   ]
  },
  {
   "cell_type": "markdown",
   "metadata": {
    "id": "1A386817CDFC45C589A7AEA55608C435",
    "jupyter": {},
    "mdEditEnable": false,
    "notebookId": "60a3f073e9d96300170942e3",
    "slideshow": {
     "slide_type": "slide"
    },
    "tags": []
   },
   "source": [
    "### 日期数据预处理"
   ]
  },
  {
   "cell_type": "code",
   "execution_count": 7,
   "metadata": {
    "id": "D33F364C6D1C401B839ACE9538398A0D",
    "jupyter": {},
    "notebookId": "60a8b374e9d963001709ebd0",
    "scrolled": false,
    "slideshow": {
     "slide_type": "slide"
    },
    "tags": []
   },
   "outputs": [
    {
     "name": "stdout",
     "output_type": "stream",
     "text": [
      "+----------+--------+\n",
      "|departdate|date_new|\n",
      "+----------+--------+\n",
      "|  20200222|20200222|\n",
      "|  20200222|20200222|\n",
      "|  20200224|20200224|\n",
      "|  20200224|20200224|\n",
      "|  20200225|20200225|\n",
      "|  20200225|20200225|\n",
      "|  20200225|20200225|\n",
      "|  20200225|20200225|\n",
      "|  20200226|20200226|\n",
      "|  20200226|20200226|\n",
      "+----------+--------+\n",
      "only showing top 10 rows\n",
      "\n",
      "time: 1.16 s\n"
     ]
    }
   ],
   "source": [
    "#规范日期数据\n",
    "#将异常值补全为八位年月日的格式：\n",
    "import pandas as pd\n",
    "import pyspark.sql.functions as F\n",
    "from pyspark.sql.functions import col, pandas_udf\n",
    "from pyspark.sql.types import BooleanType\n",
    "from pyspark.sql.functions import lit\n",
    "\n",
    "def fix(str):\n",
    "    if len(str) < 8:\n",
    "        str = str + '0'* (8 - len(str))\n",
    "    elif len(str) > 8:\n",
    "        str = 'x'\n",
    "    else:\n",
    "        pass\n",
    "    return str\n",
    "\n",
    "udffix = F.udf(fix)\n",
    "df1 = df1.withColumn('date_new', udffix(df1.departdate))\n",
    "df1.show(10)"
   ]
  },
  {
   "cell_type": "code",
   "execution_count": 10,
   "metadata": {
    "id": "B00ADBB986824EC382899E4AEE00C9FB",
    "jupyter": {},
    "notebookId": "60abaaabe9d96300170a55cb",
    "scrolled": false,
    "slideshow": {
     "slide_type": "slide"
    },
    "tags": []
   },
   "outputs": [],
   "source": [
    "############暂时不跑##############\n",
    "GRD2 = df1 #选择离站日期所对应的列\n",
    "group3 = GRD2.groupby('date_new').count() #将不同日期分组统计\n",
    "group3.show(10) #查看前10个日期及频次\n",
    "group3.count() #一共有xx个日期"
   ]
  },
  {
   "cell_type": "code",
   "execution_count": 8,
   "metadata": {
    "id": "E990732C3E5A456FBA5C8CC0C0AC857E",
    "jupyter": {},
    "notebookId": "60abaaabe9d96300170a55cb",
    "scrolled": false,
    "slideshow": {
     "slide_type": "slide"
    },
    "tags": []
   },
   "outputs": [
    {
     "name": "stdout",
     "output_type": "stream",
     "text": [
      "+----------+--------+---------+\n",
      "|departdate|date_new|date_new2|\n",
      "+----------+--------+---------+\n",
      "|  20200222|20200222| 20200222|\n",
      "|  20200222|20200222| 20200222|\n",
      "|  20200224|20200224| 20200224|\n",
      "|  20200224|20200224| 20200224|\n",
      "|  20200225|20200225| 20200225|\n",
      "|  20200225|20200225| 20200225|\n",
      "|  20200225|20200225| 20200225|\n",
      "|  20200225|20200225| 20200225|\n",
      "|  20200226|20200226| 20200226|\n",
      "|  20200226|20200226| 20200226|\n",
      "+----------+--------+---------+\n",
      "only showing top 10 rows\n",
      "\n",
      "time: 275 ms\n"
     ]
    }
   ],
   "source": [
    "#删除非数字形式\n",
    "#df1 = df1.filter(isdigit(df1.data_new))\n",
    "#df1 = df1.filter((df1.date_new).isdigit())\n",
    "\n",
    "#将非数字格式删除：\n",
    "def dele(str):\n",
    "    if str.isdigit() == 0:\n",
    "        #del\n",
    "        str = '-1'\n",
    "    else:\n",
    "        #str = '-1'\n",
    "        pass\n",
    "    return str\n",
    "\n",
    "udfdele = F.udf(dele)\n",
    "df1 = df1.withColumn('date_new2', udfdele(df1.date_new))\n",
    "df1.show(10)"
   ]
  },
  {
   "cell_type": "code",
   "execution_count": 9,
   "metadata": {
    "id": "D84F2A98F27C42498141A570A3EF8B34",
    "jupyter": {},
    "notebookId": "60abaaabe9d96300170a55cb",
    "scrolled": false,
    "slideshow": {
     "slide_type": "slide"
    },
    "tags": []
   },
   "outputs": [
    {
     "name": "stdout",
     "output_type": "stream",
     "text": [
      "time: 41.3 ms\n"
     ]
    }
   ],
   "source": [
    "#删除缺失值\n",
    "df1 = df1.filter(df1.date_new2 != '-1')"
   ]
  },
  {
   "cell_type": "code",
   "execution_count": 13,
   "metadata": {
    "id": "59BE3B1CBADB4E2A9F0EB341CCFB3D60",
    "jupyter": {},
    "notebookId": "60abaaabe9d96300170a55cb",
    "scrolled": false,
    "slideshow": {
     "slide_type": "slide"
    },
    "tags": []
   },
   "outputs": [],
   "source": [
    "############暂时不跑##############\n",
    "GRD3 = df1 #选择离站日期所对应的列\n",
    "group4 = GRD3.groupby('date_new2').count() #将不同日期分组统计\n",
    "group4.show(10) #查看前10个日期及频次\n",
    "group4.count() #一共有xx个日期"
   ]
  },
  {
   "cell_type": "markdown",
   "metadata": {
    "id": "35C6FE5220A240C0B4FE7CB5F0ACAFAC",
    "jupyter": {},
    "mdEditEnable": false,
    "notebookId": "60abaaabe9d96300170a55cb",
    "slideshow": {
     "slide_type": "slide"
    },
    "tags": []
   },
   "source": [
    "### 年份分离和统计"
   ]
  },
  {
   "cell_type": "code",
   "execution_count": 10,
   "metadata": {
    "id": "98F531F725FA4FCB97060E56099AAE66",
    "jupyter": {},
    "notebookId": "60a3f073e9d96300170942e3",
    "scrolled": false,
    "slideshow": {
     "slide_type": "slide"
    },
    "tags": []
   },
   "outputs": [
    {
     "name": "stdout",
     "output_type": "stream",
     "text": [
      "+----------+--------+---------+----+\n",
      "|departdate|date_new|date_new2|year|\n",
      "+----------+--------+---------+----+\n",
      "|  20200222|20200222| 20200222|2020|\n",
      "|  20200222|20200222| 20200222|2020|\n",
      "|  20200224|20200224| 20200224|2020|\n",
      "|  20200224|20200224| 20200224|2020|\n",
      "|  20200225|20200225| 20200225|2020|\n",
      "+----------+--------+---------+----+\n",
      "only showing top 5 rows\n",
      "\n",
      "time: 400 ms\n"
     ]
    }
   ],
   "source": [
    "#切分日期数据\n",
    "#添加新列年\n",
    "def splityear(x):\n",
    "    return int(x[0:4])\n",
    "splityear_udf_str = udf(lambda z:splityear(z),StringType())\n",
    "df1 = df1.withColumn('year',splityear_udf_str(df1['date_new2']))\n",
    "df1.show(5)"
   ]
  },
  {
   "cell_type": "code",
   "execution_count": 15,
   "metadata": {
    "id": "203E8CF275AE424B8E956EF928047505",
    "jupyter": {},
    "notebookId": "60abaaabe9d96300170a55cb",
    "scrolled": false,
    "slideshow": {
     "slide_type": "slide"
    },
    "tags": []
   },
   "outputs": [],
   "source": [
    "############暂时不跑##############\n",
    "GRD4 = df1 #选择离站日期所对应的列\n",
    "group5 = GRD4.groupby('date_new2').count() #将不同日期分组统计\n",
    "group5.show(10) #查看前10个日期及频次\n",
    "group5.count() #一共有xx个日期"
   ]
  },
  {
   "cell_type": "code",
   "execution_count": 11,
   "metadata": {
    "id": "A2AE54F283604CA895012C1B0EDE4084",
    "jupyter": {},
    "notebookId": "60abaaabe9d96300170a55cb",
    "scrolled": false,
    "slideshow": {
     "slide_type": "slide"
    },
    "tags": []
   },
   "outputs": [
    {
     "name": "stdout",
     "output_type": "stream",
     "text": [
      "time: 61.4 ms\n"
     ]
    }
   ],
   "source": [
    "df_2020 = df1\n",
    "df_2021 = df1\n",
    "df_2020 = df_2020.filter(df_2020.year == 2020)\n",
    "df_2021 = df_2021.filter(df_2021.year == 2021)"
   ]
  },
  {
   "cell_type": "code",
   "execution_count": 13,
   "metadata": {
    "id": "C2D9F040785F431A8F5971575D0A6DEB",
    "jupyter": {},
    "notebookId": "60abaaabe9d96300170a55cb",
    "scrolled": false,
    "slideshow": {
     "slide_type": "slide"
    },
    "tags": []
   },
   "outputs": [],
   "source": [
    "############暂时不跑##############\n",
    "#以2020年为示例\n",
    "GRD5 = df_2020 #选择离站日期所对应的列\n",
    "group6 = GRD5.groupby('date_new2').count() #将不同日期分组统计\n",
    "group6.show(10) #查看前10个日期及频次\n",
    "group6.count() #一共有206个日期"
   ]
  },
  {
   "cell_type": "code",
   "execution_count": null,
   "metadata": {
    "id": "523DA70C92344359BC7AAC87AE959247",
    "jupyter": {},
    "notebookId": "60abaaabe9d96300170a55cb",
    "slideshow": {
     "slide_type": "slide"
    },
    "tags": []
   },
   "outputs": [],
   "source": [
    "############暂时不跑##############\n",
    "#以2021年为示例\n",
    "df_2021.count()"
   ]
  },
  {
   "cell_type": "code",
   "execution_count": 19,
   "metadata": {
    "id": "B88A8D360082479D9B6261E8D45D2F2C",
    "jupyter": {},
    "notebookId": "60abaaabe9d96300170a55cb",
    "scrolled": false,
    "slideshow": {
     "slide_type": "slide"
    },
    "tags": []
   },
   "outputs": [],
   "source": [
    "############暂时不跑##############\n",
    "GRD5 = df2.select('year') #选择离站年份所对应的列\n",
    "group6 = GRD5.groupby('year').count() #将不同年份分组统计\n",
    "group6.show(10) #查看前10个年份及频次\n",
    "group6.count() #一共有2个年份"
   ]
  },
  {
   "cell_type": "markdown",
   "metadata": {
    "id": "01177BE27E964F4CBB695DD0B7217FA3",
    "jupyter": {},
    "mdEditEnable": false,
    "notebookId": "60abaaabe9d96300170a55cb",
    "slideshow": {
     "slide_type": "slide"
    },
    "tags": []
   },
   "source": [
    "### 月份分离和统计"
   ]
  },
  {
   "cell_type": "code",
   "execution_count": 12,
   "metadata": {
    "id": "3C770206C5824B84AEF1915A69DD5181",
    "jupyter": {},
    "notebookId": "60a3f073e9d96300170942e3",
    "scrolled": false,
    "slideshow": {
     "slide_type": "slide"
    },
    "tags": []
   },
   "outputs": [
    {
     "name": "stdout",
     "output_type": "stream",
     "text": [
      "+----------+--------+---------+----+---+\n",
      "|departdate|date_new|date_new2|year|mon|\n",
      "+----------+--------+---------+----+---+\n",
      "|  20200222|20200222| 20200222|2020| *2|\n",
      "|  20200222|20200222| 20200222|2020| *2|\n",
      "|  20200224|20200224| 20200224|2020| *2|\n",
      "|  20200224|20200224| 20200224|2020| *2|\n",
      "|  20200225|20200225| 20200225|2020| *2|\n",
      "+----------+--------+---------+----+---+\n",
      "only showing top 5 rows\n",
      "\n",
      "+----------+--------+---------+----+---+\n",
      "|departdate|date_new|date_new2|year|mon|\n",
      "+----------+--------+---------+----+---+\n",
      "|  20210317|20210317| 20210317|2021| *3|\n",
      "|  20210317|20210317| 20210317|2021| *3|\n",
      "|  20210317|20210317| 20210317|2021| *3|\n",
      "|  20210317|20210317| 20210317|2021| *3|\n",
      "|  20210317|20210317| 20210317|2021| *3|\n",
      "+----------+--------+---------+----+---+\n",
      "only showing top 5 rows\n",
      "\n",
      "time: 22.6 s\n"
     ]
    }
   ],
   "source": [
    "#对于2020年和2021所属数据，分别添加新列月份\n",
    "def splitmonth(x):\n",
    "    strm = x[5:6]\n",
    "    strm = '*' + strm \n",
    "    return strm\n",
    "splitmonth_udf_str = udf(lambda z:splitmonth(z),StringType())\n",
    "#df1 = df1.withColumn('mon',splitmonth_udf_str(df1['date_new2']))\n",
    "#df1.show(5)\n",
    "df_2020 = df_2020.withColumn('mon',splitmonth_udf_str(df_2020['date_new2']))\n",
    "df_2021 = df_2021.withColumn('mon',splitmonth_udf_str(df_2021['date_new2']))\n",
    "df_2020.show(5) \n",
    "df_2021.show(5) "
   ]
  },
  {
   "cell_type": "code",
   "execution_count": 26,
   "metadata": {
    "id": "BC4896DF6DF643A28DEDC7DEE5847517",
    "jupyter": {},
    "notebookId": "60abaaabe9d96300170a55cb",
    "scrolled": false,
    "slideshow": {
     "slide_type": "slide"
    },
    "tags": []
   },
   "outputs": [],
   "source": [
    "############暂时不跑##############\n",
    "df2.show()"
   ]
  },
  {
   "cell_type": "code",
   "execution_count": 14,
   "metadata": {
    "id": "34FD7D9081FE4F629F2D3CE8E62866F1",
    "jupyter": {},
    "notebookId": "60abaaabe9d96300170a55cb",
    "scrolled": false,
    "slideshow": {
     "slide_type": "slide"
    },
    "tags": []
   },
   "outputs": [],
   "source": [
    "############暂时不跑##############\n",
    "#对于2020年按月统计流量\n",
    "GRD6_1 = df_2020.select('mon') #选择离站月份所对应的列\n",
    "group7_1 = GRD6_1.groupby('mon').count() #将不同月份分组统计\n",
    "group7_1.show(12, False) #查看12个月份及频次\n",
    "group7_1.count() #一共有9个月份？？？"
   ]
  },
  {
   "cell_type": "code",
   "execution_count": 17,
   "metadata": {
    "id": "FCFF04DBDF764D00BCBA3306E755CF40",
    "jupyter": {},
    "notebookId": "60abaaabe9d96300170a55cb",
    "scrolled": false,
    "slideshow": {
     "slide_type": "slide"
    },
    "tags": []
   },
   "outputs": [],
   "source": [
    "############暂时不跑##############\n",
    "#对于2021年按月统计流量\n",
    "GRD6_2 = df_2021.select('month') #选择离站月份所对应的列\n",
    "group7_2 = GRD6_2.groupby('month').count() #将不同月份分组统计\n",
    "group7_2.show(12, False) #查看12个月份及频次\n",
    "group7_2.count() #一共有5个月份？？？"
   ]
  },
  {
   "cell_type": "code",
   "execution_count": 18,
   "metadata": {
    "id": "41F4ABEFE7104D31A148539055E698A0",
    "jupyter": {},
    "notebookId": "60abaaabe9d96300170a55cb",
    "scrolled": false,
    "slideshow": {
     "slide_type": "slide"
    },
    "tags": []
   },
   "outputs": [],
   "source": [
    "############暂时不跑##############\n",
    "#计算不同年份的总流量\n",
    "df_2020.count()\n",
    "df_2021.count()"
   ]
  },
  {
   "cell_type": "code",
   "execution_count": 13,
   "metadata": {
    "id": "8B253A26575043378F5CF5867F52CE7A",
    "jupyter": {},
    "notebookId": "60a3f073e9d96300170942e3",
    "scrolled": false,
    "slideshow": {
     "slide_type": "slide"
    },
    "tags": []
   },
   "outputs": [
    {
     "name": "stdout",
     "output_type": "stream",
     "text": [
      "time: 2.13 ms\n"
     ]
    }
   ],
   "source": [
    "#添加新列天\n",
    "def splitday(x):\n",
    "    return int(x[6:8])\n",
    "splitday_udf_str = udf(lambda z:splitday(z),StringType())\n",
    "#df1 = df1.withColumn('day',splitday_udf_str(df1['date_new2'])) \n",
    "#df1.show(5)\n",
    "#df2 = df2.withColumn('day',splitday_udf_str(df2['date_new2'])) \n",
    "#df2.show(5)"
   ]
  },
  {
   "cell_type": "markdown",
   "metadata": {
    "id": "52B0D0B7CF294061838F5601393925EF",
    "jupyter": {},
    "mdEditEnable": false,
    "notebookId": "60abaaabe9d96300170a55cb",
    "slideshow": {
     "slide_type": "slide"
    },
    "tags": []
   },
   "source": [
    "### 2021年各月份"
   ]
  },
  {
   "cell_type": "code",
   "execution_count": 14,
   "metadata": {
    "id": "019C9411CE4B47D3A7E260E8F41419A0",
    "jupyter": {},
    "notebookId": "60abaaabe9d96300170a55cb",
    "scrolled": false,
    "slideshow": {
     "slide_type": "slide"
    },
    "tags": []
   },
   "outputs": [
    {
     "name": "stdout",
     "output_type": "stream",
     "text": [
      "+----------+--------+---------+----+---+---+\n",
      "|departdate|date_new|date_new2|year|mon|day|\n",
      "+----------+--------+---------+----+---+---+\n",
      "|  20210317|20210317| 20210317|2021| *3| 17|\n",
      "|  20210317|20210317| 20210317|2021| *3| 17|\n",
      "|  20210317|20210317| 20210317|2021| *3| 17|\n",
      "|  20210317|20210317| 20210317|2021| *3| 17|\n",
      "|  20210317|20210317| 20210317|2021| *3| 17|\n",
      "+----------+--------+---------+----+---+---+\n",
      "only showing top 5 rows\n",
      "\n",
      "time: 34.2 s\n"
     ]
    }
   ],
   "source": [
    "#2021年TOP1月份(3月)\n",
    "df_2021_3 = df_2021\n",
    "df_2021_3 = df_2021_3.filter(df_2021_3.mon == '*3')\n",
    "df_2021_3 = df_2021_3.withColumn('day',splitday_udf_str(df_2021_3['date_new2'])) \n",
    "df_2021_3.show(5)"
   ]
  },
  {
   "cell_type": "code",
   "execution_count": 15,
   "metadata": {
    "id": "91A7C3F8D37B4815928A3DF5BD937EF5",
    "jupyter": {},
    "notebookId": "60abaaabe9d96300170a55cb",
    "scrolled": false,
    "slideshow": {
     "slide_type": "slide"
    },
    "tags": []
   },
   "outputs": [
    {
     "name": "stdout",
     "output_type": "stream",
     "text": [
      "+---+------+\n",
      "|day|count |\n",
      "+---+------+\n",
      "|7  |4     |\n",
      "|15 |43557 |\n",
      "|11 |600   |\n",
      "|29 |348959|\n",
      "|3  |2     |\n",
      "|30 |408635|\n",
      "|8  |44218 |\n",
      "|28 |762153|\n",
      "|22 |622956|\n",
      "|16 |65646 |\n",
      "|5  |5     |\n",
      "|31 |341443|\n",
      "|18 |450103|\n",
      "|27 |629457|\n",
      "|17 |447530|\n",
      "|26 |715320|\n",
      "|6  |3     |\n",
      "|19 |571246|\n",
      "|23 |390869|\n",
      "|25 |433936|\n",
      "|24 |523032|\n",
      "|9  |48720 |\n",
      "|20 |414403|\n",
      "|10 |2598  |\n",
      "|12 |55512 |\n",
      "|13 |47982 |\n",
      "|21 |549825|\n",
      "|14 |3735  |\n",
      "|2  |1     |\n",
      "+---+------+\n",
      "\n"
     ]
    },
    {
     "data": {
      "text/plain": [
       "29"
      ]
     },
     "execution_count": 15,
     "metadata": {},
     "output_type": "execute_result"
    },
    {
     "name": "stdout",
     "output_type": "stream",
     "text": [
      "time: 14min 30s\n"
     ]
    }
   ],
   "source": [
    "GRD7_2021_3 = df_2021_3.select('day') #选择离站天所对应的列\n",
    "group8_2021_3 = GRD7_2021_3.groupby('day').count() #将不同天分组统计\n",
    "group8_2021_3.show(31, False) #查看不同天及频次\n",
    "group8_2021_3.count() #一共有29天"
   ]
  },
  {
   "cell_type": "code",
   "execution_count": 16,
   "metadata": {
    "id": "07832D137B5F4F94B932CF890E0A7BD0",
    "jupyter": {},
    "notebookId": "60abaaabe9d96300170a55cb",
    "scrolled": false,
    "slideshow": {
     "slide_type": "slide"
    },
    "tags": []
   },
   "outputs": [
    {
     "name": "stdout",
     "output_type": "stream",
     "text": [
      "+----------+--------+---------+----+---+---+\n",
      "|departdate|date_new|date_new2|year|mon|day|\n",
      "+----------+--------+---------+----+---+---+\n",
      "|  20210403|20210403| 20210403|2021| *4|  3|\n",
      "|  20210402|20210402| 20210402|2021| *4|  2|\n",
      "|  20210403|20210403| 20210403|2021| *4|  3|\n",
      "|  20210403|20210403| 20210403|2021| *4|  3|\n",
      "|  20210403|20210403| 20210403|2021| *4|  3|\n",
      "+----------+--------+---------+----+---+---+\n",
      "only showing top 5 rows\n",
      "\n",
      "time: 28.4 s\n"
     ]
    }
   ],
   "source": [
    "#2021年TOP2月份(4月)\n",
    "df_2021_4 = df_2021\n",
    "df_2021_4 = df_2021_4.filter(df_2021_4.mon == '*4')\n",
    "df_2021_4 = df_2021_4.withColumn('day',splitday_udf_str(df_2021_4['date_new2'])) \n",
    "df_2021_4.show(5)"
   ]
  },
  {
   "cell_type": "code",
   "execution_count": 17,
   "metadata": {
    "id": "3B26FD9C88B7486B855F733C6028EFB6",
    "jupyter": {},
    "notebookId": "60abaaabe9d96300170a55cb",
    "scrolled": false,
    "slideshow": {
     "slide_type": "slide"
    },
    "tags": []
   },
   "outputs": [
    {
     "name": "stdout",
     "output_type": "stream",
     "text": [
      "+---+------+\n",
      "|day|count |\n",
      "+---+------+\n",
      "|7  |379690|\n",
      "|15 |325370|\n",
      "|11 |278579|\n",
      "|29 |543   |\n",
      "|3  |876233|\n",
      "|30 |4400  |\n",
      "|8  |334549|\n",
      "|22 |647   |\n",
      "|28 |184   |\n",
      "|16 |38442 |\n",
      "|5  |795313|\n",
      "|18 |4448  |\n",
      "|27 |104   |\n",
      "|17 |8835  |\n",
      "|26 |152   |\n",
      "|6  |484434|\n",
      "|19 |1706  |\n",
      "|23 |1078  |\n",
      "|25 |386   |\n",
      "|9  |308385|\n",
      "|24 |697   |\n",
      "|1  |396728|\n",
      "|20 |892   |\n",
      "|10 |303875|\n",
      "|4  |307416|\n",
      "|12 |289293|\n",
      "|13 |356587|\n",
      "|14 |368263|\n",
      "|21 |610   |\n",
      "|2  |696286|\n",
      "+---+------+\n",
      "\n"
     ]
    },
    {
     "data": {
      "text/plain": [
       "30"
      ]
     },
     "execution_count": 17,
     "metadata": {},
     "output_type": "execute_result"
    },
    {
     "name": "stdout",
     "output_type": "stream",
     "text": [
      "time: 14min 29s\n"
     ]
    }
   ],
   "source": [
    "GRD7_2021_4 = df_2021_4.select('day') #选择离站天所对应的列\n",
    "group8_2021_4 = GRD7_2021_4.groupby('day').count() #将不同天分组统计\n",
    "group8_2021_4.show(31, False) #查看不同天及频次\n",
    "group8_2021_4.count() #一共有30天"
   ]
  },
  {
   "cell_type": "code",
   "execution_count": 18,
   "metadata": {
    "id": "97FBF02C706845D5B3D12FE85C2E5781",
    "jupyter": {},
    "notebookId": "60abaaabe9d96300170a55cb",
    "scrolled": false,
    "slideshow": {
     "slide_type": "slide"
    },
    "tags": []
   },
   "outputs": [
    {
     "name": "stdout",
     "output_type": "stream",
     "text": [
      "+----------+--------+---------+----+---+---+\n",
      "|departdate|date_new|date_new2|year|mon|day|\n",
      "+----------+--------+---------+----+---+---+\n",
      "|  20210504|20210504| 20210504|2021| *5|  4|\n",
      "|  20210504|20210504| 20210504|2021| *5|  4|\n",
      "|  20210501|20210501| 20210501|2021| *5|  1|\n",
      "|  20210501|20210501| 20210501|2021| *5|  1|\n",
      "|  20210501|20210501| 20210501|2021| *5|  1|\n",
      "+----------+--------+---------+----+---+---+\n",
      "only showing top 5 rows\n",
      "\n",
      "time: 37.2 s\n"
     ]
    }
   ],
   "source": [
    "#2021年TOP3月份(5月)\n",
    "df_2021_5 = df_2021\n",
    "df_2021_5 = df_2021_5.filter(df_2021_5.mon == '*5')\n",
    "df_2021_5 = df_2021_5.withColumn('day',splitday_udf_str(df_2021_5['date_new2'])) \n",
    "df_2021_5.show(5)"
   ]
  },
  {
   "cell_type": "code",
   "execution_count": 19,
   "metadata": {
    "id": "F8A2A8E35F77438E89C653FE3A257540",
    "jupyter": {},
    "notebookId": "60abaaabe9d96300170a55cb",
    "scrolled": false,
    "slideshow": {
     "slide_type": "slide"
    },
    "tags": []
   },
   "outputs": [
    {
     "name": "stdout",
     "output_type": "stream",
     "text": [
      "+---+-----+\n",
      "|day|count|\n",
      "+---+-----+\n",
      "|7  |7    |\n",
      "|11 |2    |\n",
      "|3  |125  |\n",
      "|8  |3    |\n",
      "|5  |231  |\n",
      "|6  |11   |\n",
      "|9  |2    |\n",
      "|1  |3867 |\n",
      "|10 |2    |\n",
      "|4  |124  |\n",
      "|2  |196  |\n",
      "+---+-----+\n",
      "\n"
     ]
    },
    {
     "data": {
      "text/plain": [
       "11"
      ]
     },
     "execution_count": 19,
     "metadata": {},
     "output_type": "execute_result"
    },
    {
     "name": "stdout",
     "output_type": "stream",
     "text": [
      "time: 14min 14s\n"
     ]
    }
   ],
   "source": [
    "GRD7_2021_5 = df_2021_5.select('day') #选择离站天所对应的列\n",
    "group8_2021_5 = GRD7_2021_5.groupby('day').count() #将不同天分组统计\n",
    "group8_2021_5.show(31, False) #查看不同天及频次\n",
    "group8_2021_5.count() #一共有？天"
   ]
  },
  {
   "cell_type": "code",
   "execution_count": null,
   "metadata": {
    "id": "71E774C1274046FA9839B296F5525DDD",
    "jupyter": {},
    "notebookId": "60abaaabe9d96300170a55cb",
    "slideshow": {
     "slide_type": "slide"
    },
    "tags": []
   },
   "outputs": [],
   "source": [
    "#2021年TOP4月份(2月)\n",
    "df_2021_2 = df_2021\n",
    "df_2021_2 = df_2021_2.filter(df_2021_2.mon == '*2')\n",
    "df_2021_2 = df_2021_2.withColumn('day',splitday_udf_str(df_2021_2['date_new2'])) \n",
    "df_2021_2.show(5)"
   ]
  },
  {
   "cell_type": "code",
   "execution_count": null,
   "metadata": {
    "id": "FEB84282F0434E10BAC8753CD41A1243",
    "jupyter": {},
    "notebookId": "60abaaabe9d96300170a55cb",
    "slideshow": {
     "slide_type": "slide"
    },
    "tags": []
   },
   "outputs": [],
   "source": [
    "GRD7_2021_2 = df_2021_2.select('day') #选择离站天所对应的列\n",
    "group8_2021_2 = GRD7_2021_2.groupby('day').count() #将不同天分组统计\n",
    "group8_2021_2.show(31, False) #查看不同天及频次\n",
    "group8_2021_2.count() #一共有？天"
   ]
  },
  {
   "cell_type": "code",
   "execution_count": null,
   "metadata": {
    "id": "C07552A0D77D4A1E8BB8ECC35CC94A03",
    "jupyter": {},
    "notebookId": "60abaaabe9d96300170a55cb",
    "slideshow": {
     "slide_type": "slide"
    },
    "tags": []
   },
   "outputs": [],
   "source": [
    "#2021年TOP5月份(1月)\n",
    "df_2021_1 = df_2021\n",
    "df_2021_1 = df_2021_1.filter(df_2021_1.mon == '*1')\n",
    "df_2021_1 = df_2021_1.withColumn('day',splitday_udf_str(df_2021_1['date_new2'])) \n",
    "df_2021_1.show(5)"
   ]
  },
  {
   "cell_type": "code",
   "execution_count": null,
   "metadata": {
    "id": "F865CB8F51BF42AD97B13AA2D379833D",
    "jupyter": {},
    "notebookId": "60abaaabe9d96300170a55cb",
    "slideshow": {
     "slide_type": "slide"
    },
    "tags": []
   },
   "outputs": [],
   "source": [
    "GRD7_2021_1 = df_2021_1.select('day') #选择离站天所对应的列\n",
    "group8_2021_1 = GRD7_2021_1.groupby('day').count() #将不同天分组统计\n",
    "group8_2021_1.show(31, False) #查看不同天及频次\n",
    "group8_2021_1.count() #一共有？天"
   ]
  },
  {
   "cell_type": "markdown",
   "metadata": {
    "id": "EF6CB5172E284BB69257D138EE78E840",
    "jupyter": {},
    "mdEditEnable": false,
    "notebookId": "60abaaabe9d96300170a55cb",
    "slideshow": {
     "slide_type": "slide"
    },
    "tags": []
   },
   "source": [
    "### 2020年各月份"
   ]
  },
  {
   "cell_type": "code",
   "execution_count": 16,
   "metadata": {
    "id": "A9422E03D3A346888405849091287D94",
    "jupyter": {},
    "notebookId": "60abaaabe9d96300170a55cb",
    "scrolled": false,
    "slideshow": {
     "slide_type": "slide"
    },
    "tags": []
   },
   "outputs": [],
   "source": [
    "#2020年TOP1月份(4月)\n",
    "df_2020_4 = df_2020\n",
    "#df_2020_4 = df_2020_4.filter(df_2020_4.month == 4)\n",
    "#df_2020_4 = df_2020_4.withColumn('day',splitday_udf_str(df_2020_4['date_new2'])) \n",
    "df_2020_4.show(5)"
   ]
  },
  {
   "cell_type": "code",
   "execution_count": 18,
   "metadata": {
    "id": "B84CF759A6BF47128120A995069D2A87",
    "jupyter": {},
    "notebookId": "60abaaabe9d96300170a55cb",
    "scrolled": false,
    "slideshow": {
     "slide_type": "slide"
    },
    "tags": []
   },
   "outputs": [],
   "source": [
    "df_2020_4 = df_2020_4.filter(df_2020_4.mon == '*4')\n",
    "df_2020_4.show(5)"
   ]
  },
  {
   "cell_type": "code",
   "execution_count": 20,
   "metadata": {
    "id": "8EC81DA64CE24D55909608D5C42EB3BB",
    "jupyter": {},
    "notebookId": "60abaaabe9d96300170a55cb",
    "scrolled": false,
    "slideshow": {
     "slide_type": "slide"
    },
    "tags": []
   },
   "outputs": [],
   "source": [
    "df_2020_4 = df_2020_4.withColumn('day',splitday_udf_str(df_2020_4['date_new2'])) \n",
    "df_2020_4.show(5)"
   ]
  },
  {
   "cell_type": "code",
   "execution_count": 19,
   "metadata": {
    "id": "AFCB0FB8BE294EF991013405C3C42B04",
    "jupyter": {},
    "notebookId": "60abaaabe9d96300170a55cb",
    "scrolled": false,
    "slideshow": {
     "slide_type": "slide"
    },
    "tags": []
   },
   "outputs": [],
   "source": [
    "GRD7_2020_4 = df_2020_4.select('day') #选择离站天所对应的列\n",
    "group8_2020_4 = GRD7_2020_4.groupby('day').count() #将不同天分组统计\n",
    "group8_2020_4.show(30, False) #查看不同天及频次\n",
    "group8_2020_4.count() #一共有30天"
   ]
  },
  {
   "cell_type": "code",
   "execution_count": 17,
   "metadata": {
    "id": "E21155D9F92E44738A330D95721C3258",
    "jupyter": {},
    "notebookId": "60abaaabe9d96300170a55cb",
    "scrolled": false,
    "slideshow": {
     "slide_type": "slide"
    },
    "tags": []
   },
   "outputs": [],
   "source": [
    "#2020年TOP2月份(5月)\n",
    "df_2020_5 = df_2020\n",
    "#df_2020_5 = df_2020_5.filter(df_2020_5.month == 5)\n",
    "#df_2020_5 = df_2020_5.withColumn('day',splitday_udf_str(df_2020_5['date_new2'])) \n",
    "df_2020_5.show(5)"
   ]
  },
  {
   "cell_type": "code",
   "execution_count": 18,
   "metadata": {
    "id": "891AC7DACA0D40FD978D50939EAD4452",
    "jupyter": {},
    "notebookId": "60abaaabe9d96300170a55cb",
    "scrolled": false,
    "slideshow": {
     "slide_type": "slide"
    },
    "tags": []
   },
   "outputs": [],
   "source": [
    "df_2020_5 = df_2020_5.filter(df_2020_5.mon == '*5')\n",
    "df_2020_5.show(5)"
   ]
  },
  {
   "cell_type": "code",
   "execution_count": 19,
   "metadata": {
    "id": "936863B8452D41468A20EDD32FB80C0F",
    "jupyter": {},
    "notebookId": "60abaaabe9d96300170a55cb",
    "scrolled": false,
    "slideshow": {
     "slide_type": "slide"
    },
    "tags": []
   },
   "outputs": [],
   "source": [
    "df_2020_5 = df_2020_5.withColumn('day',splitday_udf_str(df_2020_5['date_new2'])) \n",
    "df_2020_5.show(5)"
   ]
  },
  {
   "cell_type": "code",
   "execution_count": 20,
   "metadata": {
    "id": "0EF51473A194483D957619C58E5A740B",
    "jupyter": {},
    "notebookId": "60abaaabe9d96300170a55cb",
    "scrolled": false,
    "slideshow": {
     "slide_type": "slide"
    },
    "tags": []
   },
   "outputs": [],
   "source": [
    "GRD7_2020_5 = df_2020_5.select('day') #选择离站天所对应的列\n",
    "group8_2020_5 = GRD7_2020_5.groupby('day').count() #将不同天分组统计\n",
    "group8_2020_5.show(31, False) #查看不同天及频次\n",
    "group8_2020_5.count() #一共有？天"
   ]
  },
  {
   "cell_type": "code",
   "execution_count": 21,
   "metadata": {
    "id": "C8158B382D10471895F11331D91C3B2C",
    "jupyter": {},
    "notebookId": "60abaaabe9d96300170a55cb",
    "scrolled": false,
    "slideshow": {
     "slide_type": "slide"
    },
    "tags": []
   },
   "outputs": [],
   "source": [
    "#2020年TOP3月份(3月)\n",
    "df_2020_3 = df_2020\n",
    "df_2020_3 = df_2020_3.filter(df_2020_3.mon == '*3')\n",
    "df_2020_3 = df_2020_3.withColumn('day',splitday_udf_str(df_2020_3['date_new2'])) \n",
    "df_2020_3.show(5)"
   ]
  },
  {
   "cell_type": "code",
   "execution_count": 22,
   "metadata": {
    "id": "F7FC52E93E3A4DAA94EC4F03AD4B7410",
    "jupyter": {},
    "notebookId": "60abaaabe9d96300170a55cb",
    "scrolled": false,
    "slideshow": {
     "slide_type": "slide"
    },
    "tags": []
   },
   "outputs": [],
   "source": [
    "GRD7_2020_3 = df_2020_3.select('day') #选择离站天所对应的列\n",
    "group8_2020_3 = GRD7_2020_3.groupby('day').count() #将不同天分组统计\n",
    "group8_2020_3.show(31, False) #查看不同天及频次\n",
    "group8_2020_3.count() #一共有？天"
   ]
  },
  {
   "cell_type": "code",
   "execution_count": 23,
   "metadata": {
    "id": "895BE49AE11044F195CB53823EC4D4FB",
    "jupyter": {},
    "notebookId": "60abaaabe9d96300170a55cb",
    "scrolled": false,
    "slideshow": {
     "slide_type": "slide"
    },
    "tags": []
   },
   "outputs": [],
   "source": [
    "#2020年TOP4月份(6月)\n",
    "df_2020_6 = df_2020\n",
    "df_2020_6 = df_2020_6.filter(df_2020_6.mon == '*6')\n",
    "df_2020_6 = df_2020_6.withColumn('day',splitday_udf_str(df_2020_6['date_new2'])) \n",
    "df_2020_6.show(5)"
   ]
  },
  {
   "cell_type": "code",
   "execution_count": 24,
   "metadata": {
    "id": "DF10306244744DEB8A41051E768B3072",
    "jupyter": {},
    "notebookId": "60abaaabe9d96300170a55cb",
    "scrolled": false,
    "slideshow": {
     "slide_type": "slide"
    },
    "tags": []
   },
   "outputs": [],
   "source": [
    "GRD7_2020_6 = df_2020_6.select('day') #选择离站天所对应的列\n",
    "group8_2020_6 = GRD7_2020_6.groupby('day').count() #将不同天分组统计\n",
    "group8_2020_6.show(30, False) #查看不同天及频次\n",
    "group8_2020_6.count() #一共有？天"
   ]
  },
  {
   "cell_type": "code",
   "execution_count": 25,
   "metadata": {
    "id": "3E658388A5054BA5928B3A9AB1F08F14",
    "jupyter": {},
    "notebookId": "60abaaabe9d96300170a55cb",
    "scrolled": false,
    "slideshow": {
     "slide_type": "slide"
    },
    "tags": []
   },
   "outputs": [],
   "source": [
    "#2020年TOP5月份(2月)\n",
    "df_2020_2 = df_2020\n",
    "df_2020_2 = df_2020_2.filter(df_2020_2.mon == '*2')\n",
    "df_2020_2 = df_2020_2.withColumn('day',splitday_udf_str(df_2020_2['date_new2'])) \n",
    "df_2020_2.show(5)"
   ]
  },
  {
   "cell_type": "code",
   "execution_count": 26,
   "metadata": {
    "id": "D4B024CA313542828E2D74B7FD958732",
    "jupyter": {},
    "notebookId": "60abaaabe9d96300170a55cb",
    "scrolled": false,
    "slideshow": {
     "slide_type": "slide"
    },
    "tags": []
   },
   "outputs": [],
   "source": [
    "GRD7_2020_2 = df_2020_2.select('day') #选择离站天所对应的列\n",
    "group8_2020_2 = GRD7_2020_2.groupby('day').count() #将不同天分组统计\n",
    "group8_2020_2.show(30, False) #查看不同天及频次\n",
    "group8_2020_2.count() #一共有？天"
   ]
  },
  {
   "cell_type": "code",
   "execution_count": 27,
   "metadata": {
    "id": "6253C8C9767248E7AA16943C5F14E4D2",
    "jupyter": {},
    "notebookId": "60abaaabe9d96300170a55cb",
    "scrolled": false,
    "slideshow": {
     "slide_type": "slide"
    },
    "tags": []
   },
   "outputs": [],
   "source": [
    "#2020年TOP6月份(1月)\n",
    "df_2020_1 = df_2020\n",
    "df_2020_1 = df_2020_1.filter(df_2020_1.mon == '*1')\n",
    "df_2020_1 = df_2020_1.withColumn('day',splitday_udf_str(df_2020_1['date_new2'])) \n",
    "df_2020_1.show(5)"
   ]
  },
  {
   "cell_type": "code",
   "execution_count": 28,
   "metadata": {
    "id": "2DF7459171DA46FB93932421568AF892",
    "jupyter": {},
    "notebookId": "60abaaabe9d96300170a55cb",
    "scrolled": false,
    "slideshow": {
     "slide_type": "slide"
    },
    "tags": []
   },
   "outputs": [],
   "source": [
    "GRD7_2020_1 = df_2020_1.select('day') #选择离站天所对应的列\n",
    "group8_2020_1 = GRD7_2020_1.groupby('day').count() #将不同天分组统计\n",
    "group8_2020_1.show(31, False) #查看不同天及频次\n",
    "group8_2020_1.count() #一共有？天"
   ]
  },
  {
   "cell_type": "code",
   "execution_count": 29,
   "metadata": {
    "id": "639C02BC3E2E49EE81D20553D1AE12B7",
    "jupyter": {},
    "notebookId": "60abaaabe9d96300170a55cb",
    "scrolled": false,
    "slideshow": {
     "slide_type": "slide"
    },
    "tags": []
   },
   "outputs": [],
   "source": [
    "#2020年TOP7月份(8月)\n",
    "df_2020_8 = df_2020\n",
    "df_2020_8 = df_2020_8.filter(df_2020_8.mon == '*8')\n",
    "df_2020_8 = df_2020_8.withColumn('day',splitday_udf_str(df_2020_8['date_new2'])) \n",
    "df_2020_8.show(5)"
   ]
  },
  {
   "cell_type": "code",
   "execution_count": 30,
   "metadata": {
    "id": "C421FE4FA2AC4A5FA4D3CCDF6C79874F",
    "jupyter": {},
    "notebookId": "60abaaabe9d96300170a55cb",
    "scrolled": false,
    "slideshow": {
     "slide_type": "slide"
    },
    "tags": []
   },
   "outputs": [],
   "source": [
    "GRD7_2020_8 = df_2020_8.select('day') #选择离站天所对应的列\n",
    "group8_2020_8 = GRD7_2020_8.groupby('day').count() #将不同天分组统计\n",
    "group8_2020_8.show(31, False) #查看不同天及频次\n",
    "group8_2020_8.count() #一共有？天"
   ]
  },
  {
   "cell_type": "code",
   "execution_count": 31,
   "metadata": {
    "id": "A09C1122D7B74EFF87F1A002B520281C",
    "jupyter": {},
    "notebookId": "60abaaabe9d96300170a55cb",
    "scrolled": false,
    "slideshow": {
     "slide_type": "slide"
    },
    "tags": []
   },
   "outputs": [],
   "source": [
    "#2020年TOP8月份(9月)\n",
    "df_2020_9 = df_2020\n",
    "df_2020_9 = df_2020_9.filter(df_2020_9.mon == '*9')\n",
    "df_2020_9 = df_2020_9.withColumn('day',splitday_udf_str(df_2020_9['date_new2'])) \n",
    "df_2020_9.show(5)"
   ]
  },
  {
   "cell_type": "code",
   "execution_count": 32,
   "metadata": {
    "id": "D4EB662EE41B4819814236161E3FDFBF",
    "jupyter": {},
    "notebookId": "60abaaabe9d96300170a55cb",
    "scrolled": false,
    "slideshow": {
     "slide_type": "slide"
    },
    "tags": []
   },
   "outputs": [],
   "source": [
    "GRD7_2020_9 = df_2020_9.select('day') #选择离站天所对应的列\n",
    "group8_2020_9 = GRD7_2020_9.groupby('day').count() #将不同天分组统计\n",
    "group8_2020_9.show(30, False) #查看不同天及频次\n",
    "group8_2020_9.count() #一共有？天"
   ]
  },
  {
   "cell_type": "code",
   "execution_count": 33,
   "metadata": {
    "id": "297C745D89B343009C7255A347A43355",
    "jupyter": {},
    "notebookId": "60abaaabe9d96300170a55cb",
    "scrolled": false,
    "slideshow": {
     "slide_type": "slide"
    },
    "tags": []
   },
   "outputs": [],
   "source": [
    "#2020年TOP9月份(7月)\n",
    "df_2020_7 = df_2020\n",
    "df_2020_7 = df_2020_7.filter(df_2020_7.mon == '*7')\n",
    "df_2020_7 = df_2020_7.withColumn('day',splitday_udf_str(df_2020_7['date_new2'])) \n",
    "df_2020_7.show(5)"
   ]
  },
  {
   "cell_type": "code",
   "execution_count": 34,
   "metadata": {
    "id": "F0D89991291A4F1FB8037D740FD7CBA3",
    "jupyter": {},
    "notebookId": "60abaaabe9d96300170a55cb",
    "scrolled": false,
    "slideshow": {
     "slide_type": "slide"
    },
    "tags": []
   },
   "outputs": [],
   "source": [
    "GRD7_2020_7 = df_2020_7.select('day') #选择离站天所对应的列\n",
    "group8_2020_7 = GRD7_2020_7.groupby('day').count() #将不同天分组统计\n",
    "group8_2020_7.show(31, False) #查看不同天及频次\n",
    "group8_2020_7.count() #一共有？天"
   ]
  },
  {
   "cell_type": "markdown",
   "metadata": {
    "id": "61470798A0ED48A884328B37F286A01A",
    "jupyter": {},
    "mdEditEnable": false,
    "notebookId": "60a8b374e9d963001709ebd0",
    "slideshow": {
     "slide_type": "slide"
    },
    "tags": []
   },
   "source": [
    "### 绘图（未完成）"
   ]
  },
  {
   "cell_type": "code",
   "execution_count": 15,
   "metadata": {
    "id": "71C718EDDAAB4A8D889A52F19B272B29",
    "jupyter": {},
    "notebookId": "60a8b374e9d963001709ebd0",
    "scrolled": false,
    "slideshow": {
     "slide_type": "slide"
    },
    "tags": []
   },
   "outputs": [],
   "source": [
    "#df1 = df1.toPandas()\n",
    "x = df.groupby('month').count()\n",
    "x.show(3)\n",
    "x=x.toPandas()\n",
    "plt.style.use('fast')\n",
    "\n",
    "# 支持中文\n",
    "plt.rcParams['font.sans-serif'] = ['SimHei']  # 用来正常显示中文标签\n",
    "plt.rcParams['axes.unicode_minus'] = False  # 用来正常显示负号\n",
    "# 生成一张12*4的图\n",
    "fig = plt.figure(figsize=(12,4))\n",
    "plt.stackplot(df['month'],\n",
    "              df['count'] # 面积图是在前一个序列数据基础上，逐层向上累加而构成的图\n",
    "             ,alpha=0.8)\n",
    "plt.xlabel('month') # 纵坐标轴标题\n",
    "plt.ylabel('traffic flowing') # 纵坐标轴标题\n",
    "plt.title('The Traffic Flowing of Records per month') # 图形标题\n",
    "plt.legend()\n",
    "ax = plt.gca()\n",
    "ax.axes.xaxis.set_ticks([])\n",
    "plt.show()"
   ]
  },
  {
   "cell_type": "code",
   "execution_count": null,
   "metadata": {
    "id": "73B5F31B439E4CB18BC31292A44A00F9",
    "jupyter": {},
    "notebookId": "60a8b374e9d963001709ebd0",
    "slideshow": {
     "slide_type": "slide"
    },
    "tags": []
   },
   "outputs": [],
   "source": [
    "x = x.orderBy(-x['count'])\n",
    "x.show(5)"
   ]
  },
  {
   "cell_type": "markdown",
   "metadata": {
    "id": "4541DE90EDB44C1C9A1C0E59DDAE8EC6",
    "jupyter": {},
    "mdEditEnable": false,
    "notebookId": "60a8b374e9d963001709ebd0",
    "slideshow": {
     "slide_type": "slide"
    },
    "tags": []
   },
   "source": [
    "### 日期-热力日历图"
   ]
  },
  {
   "cell_type": "code",
   "execution_count": 9,
   "metadata": {
    "id": "F870E85DCE21489CA5AE40677A337F56",
    "jupyter": {},
    "notebookId": "60abaaabe9d96300170a55cb",
    "scrolled": false,
    "slideshow": {
     "slide_type": "slide"
    },
    "tags": []
   },
   "outputs": [],
   "source": [
    "##########平台自带\n",
    "import numpy as np\n",
    "np.random.seed(0)\n",
    "import seaborn as sns\n",
    "sns.set() #显示调用，获取默认绘图\n",
    "uniform_data = np.random.rand(10, 12)\n",
    "sns.heatmap(uniform_data)"
   ]
  },
  {
   "cell_type": "code",
   "execution_count": 18,
   "metadata": {
    "id": "2B7ABBF5F1CA453B852A431ECB110233",
    "jupyter": {},
    "notebookId": "60a8b374e9d963001709ebd0",
    "scrolled": false,
    "slideshow": {
     "slide_type": "slide"
    },
    "tags": []
   },
   "outputs": [],
   "source": [
    "#pip install pyecharts"
   ]
  },
  {
   "cell_type": "code",
   "execution_count": 24,
   "metadata": {
    "id": "EFA083742103468F8158985351DB1A7C",
    "jupyter": {},
    "notebookId": "60a8b374e9d963001709ebd0",
    "scrolled": false,
    "slideshow": {
     "slide_type": "slide"
    },
    "tags": []
   },
   "outputs": [],
   "source": [
    "import seaborn as sns\n",
    "#np.random.seed(0)\n",
    "sns.set()\n",
    "\n",
    "'''\n",
    "heatmap = HeatMap(\"车流量出行日历热力图\", \"xxxx\", width=1100)\n",
    "heatmap.add(\n",
    "    \"\",\n",
    "    group_month,  # 列表数据包含日期以及对应数据\n",
    "    is_visualmap=True,  # 是否启用视觉映射组件\n",
    "    visual_range=[0, 5],     # 组件所允许的最大值与最小值\n",
    "    visual_text_color=\"#000\",   # 组件两端文本颜色\n",
    "    visual_range_text=[\"神隐\", \"微商\"],  # 组件两端文本\n",
    "    visual_range_color=[\"#D8BFD8\", \"#FFB6C1\", \"#EE82EE\"],   # 过度颜色，Thistle，LightPink、Violet\n",
    "    visual_orient=\"horizontal\",     # 组件条的方向，vertical和horizontal可选\n",
    "    visual_pos=\"center\",    # 组件条距左侧的位置，left、center、right可选，也可用百分数或整数\n",
    "    visual_top=\"80%\",   # 组件条距离顶部的位置，有top、center、bottom可选，也可用百分数或整数\n",
    "    # visual_split_number=4,  # 分段型中分段的个数\n",
    "    # is_piecewise=True,  # 将组件转换为分段型，默认为连续型\n",
    "    is_calendar_heatmap=True,   # 使用日历热力图\n",
    "    calendar_cell_size=[\"auto\", 30],    # 单元格大小，默认[\"auto\", 20]\n",
    "    calendar_date_range=[\"2018-3-9\", \"2019-3-10\"],   # 日期跨度，可以为str/list\n",
    ")\n",
    "heatmap.render('moments.gif')\n",
    "'''\n",
    "\n",
    "#返回一个或一组服从“0~1”均匀分布的随机样本值\n",
    "uniform_data = np.random.rand(10,12) #10个12维数据\n",
    "sns.heatmap(uniform_data)"
   ]
  },
  {
   "cell_type": "code",
   "execution_count": 20,
   "metadata": {
    "id": "94C340BC259244408C16737C13188F53",
    "jupyter": {},
    "notebookId": "60a8b374e9d963001709ebd0",
    "scrolled": false,
    "slideshow": {
     "slide_type": "slide"
    },
    "tags": []
   },
   "outputs": [],
   "source": [
    "df['month'].value_counts()"
   ]
  },
  {
   "cell_type": "markdown",
   "metadata": {
    "id": "633CE7EAB56243D2833744E9C4D0AFD3",
    "jupyter": {},
    "mdEditEnable": false,
    "notebookId": "60a8b374e9d963001709ebd0",
    "slideshow": {
     "slide_type": "slide"
    },
    "tags": []
   },
   "source": [
    "### 发车日期（按月份）时序图"
   ]
  },
  {
   "cell_type": "code",
   "execution_count": null,
   "metadata": {
    "id": "F472168F4D214847831A6C28CF0E850D",
    "jupyter": {},
    "notebookId": "60a8b374e9d963001709ebd0",
    "slideshow": {
     "slide_type": "slide"
    },
    "tags": []
   },
   "outputs": [],
   "source": [
    "library(lubridate)  #R"
   ]
  }
 ],
 "metadata": {
  "kernelspec": {
   "display_name": "Python 3",
   "language": "python",
   "name": "python3"
  },
  "language_info": {
   "codemirror_mode": {
    "name": "ipython",
    "version": 3
   },
   "file_extension": ".py",
   "mimetype": "text/x-python",
   "name": "python",
   "nbconvert_exporter": "python",
   "pygments_lexer": "ipython3",
   "version": "3.7.4"
  }
 },
 "nbformat": 4,
 "nbformat_minor": 2
}
